{
  "cells": [
    {
      "cell_type": "markdown",
      "metadata": {
        "id": "view-in-github",
        "colab_type": "text"
      },
      "source": [
        "<a href=\"https://colab.research.google.com/github/Sai-Navya25/Pythonproject/blob/main/Day1%20-%20Python%20Bootcamp%202023.ipynb\" target=\"_parent\"><img src=\"https://colab.research.google.com/assets/colab-badge.svg\" alt=\"Open In Colab\"/></a>"
      ]
    },
    {
      "cell_type": "markdown",
      "source": [
        "# **Python Output**\n",
        "\n",
        "Syntax: print(value, ..., sep='', end = '\\n', file = sys.stdout, flush = False)"
      ],
      "metadata": {
        "id": "rhcrbR9jDJ5-"
      }
    },
    {
      "cell_type": "code",
      "source": [
        "#seperating or changing space values\n",
        "\n"
      ],
      "metadata": {
        "id": "1ZJWxY-RDNt9"
      },
      "execution_count": null,
      "outputs": []
    },
    {
      "cell_type": "code",
      "source": [
        "# printing two statemetns in a line\n"
      ],
      "metadata": {
        "id": "b2X6sZUPD2pt"
      },
      "execution_count": null,
      "outputs": []
    },
    {
      "cell_type": "markdown",
      "source": [
        "# **Data Types in Python**"
      ],
      "metadata": {
        "id": "oRLwXYOrEBM9"
      }
    },
    {
      "cell_type": "code",
      "source": [
        "# 1) Integer\n",
        "print(4,5)\n"
      ],
      "metadata": {
        "id": "tz7HKv-iEEnd",
        "outputId": "93efc35d-c488-4658-c754-5db20a1464b5",
        "colab": {
          "base_uri": "https://localhost:8080/"
        }
      },
      "execution_count": 10,
      "outputs": [
        {
          "output_type": "stream",
          "name": "stdout",
          "text": [
            "4 5\n"
          ]
        }
      ]
    },
    {
      "cell_type": "code",
      "source": [
        "# 2) Decimal Float\n",
        "print(123.45)"
      ],
      "metadata": {
        "id": "yqj3t-VIEqU1",
        "outputId": "05c23b90-9175-4761-f421-6eb96cc333ec",
        "colab": {
          "base_uri": "https://localhost:8080/"
        }
      },
      "execution_count": 9,
      "outputs": [
        {
          "output_type": "stream",
          "name": "stdout",
          "text": [
            "123.45\n"
          ]
        }
      ]
    },
    {
      "cell_type": "code",
      "source": [
        "# 3) Boolean\n",
        "print(0)\n",
        "print(1)\n",
        "print(True)\n",
        "print(False)"
      ],
      "metadata": {
        "id": "ESY_khogEuo2"
      },
      "execution_count": null,
      "outputs": []
    },
    {
      "cell_type": "code",
      "source": [
        "# 4) Text/Strings\n",
        "print('hello world')"
      ],
      "metadata": {
        "id": "_JAmgCH8E0Qe",
        "outputId": "b38977c6-b79e-4b03-8353-f44b806dbf83",
        "colab": {
          "base_uri": "https://localhost:8080/"
        }
      },
      "execution_count": 8,
      "outputs": [
        {
          "output_type": "stream",
          "name": "stdout",
          "text": [
            "hello world\n"
          ]
        }
      ]
    },
    {
      "cell_type": "code",
      "source": [
        "# 5) Complex\n",
        "print(4+5j)"
      ],
      "metadata": {
        "id": "MAa_nZTME6IK",
        "outputId": "850022c1-b13d-4924-8cf2-dea85c445e39",
        "colab": {
          "base_uri": "https://localhost:8080/"
        }
      },
      "execution_count": 1,
      "outputs": [
        {
          "output_type": "stream",
          "name": "stdout",
          "text": [
            "(4+5j)\n"
          ]
        }
      ]
    },
    {
      "cell_type": "code",
      "source": [
        "# 6) List\n",
        "print([1,2,3,\"hello\",True])"
      ],
      "metadata": {
        "id": "S3E4MoRIE97R",
        "outputId": "380ae4f1-7d26-44c9-f3fd-0d337d976452",
        "colab": {
          "base_uri": "https://localhost:8080/"
        }
      },
      "execution_count": 4,
      "outputs": [
        {
          "output_type": "stream",
          "name": "stdout",
          "text": [
            "[1, 2, 3, 'hello', True]\n"
          ]
        }
      ]
    },
    {
      "cell_type": "code",
      "source": [
        "# 7) Tuple\n",
        "print((1,2,3,\"hello\",True))"
      ],
      "metadata": {
        "id": "W0b0W8hYFAYd",
        "outputId": "b1eb9362-828e-414f-e65f-1cb25da18b72",
        "colab": {
          "base_uri": "https://localhost:8080/"
        }
      },
      "execution_count": 5,
      "outputs": [
        {
          "output_type": "stream",
          "name": "stdout",
          "text": [
            "(1, 2, 3, 'hello', True)\n"
          ]
        }
      ]
    },
    {
      "cell_type": "code",
      "source": [
        "# 8) Sets\n",
        "print({1,2,3,4,2,2,3,6,7,\"hi\"})\n",
        "#no duplicate values"
      ],
      "metadata": {
        "id": "KUJLKg1IFEeP",
        "outputId": "22514a43-8469-46c9-f7fc-1bdfb04f112a",
        "colab": {
          "base_uri": "https://localhost:8080/"
        }
      },
      "execution_count": 6,
      "outputs": [
        {
          "output_type": "stream",
          "name": "stdout",
          "text": [
            "{1, 2, 3, 4, 'hi', 6, 7}\n"
          ]
        }
      ]
    },
    {
      "cell_type": "code",
      "source": [
        "# 9) Dictionary\n",
        "print({'name':'python'})\n"
      ],
      "metadata": {
        "id": "AnA-TREeFHGV",
        "outputId": "29c5608e-9ed9-43af-b545-d1742cd26661",
        "colab": {
          "base_uri": "https://localhost:8080/"
        }
      },
      "execution_count": 7,
      "outputs": [
        {
          "output_type": "stream",
          "name": "stdout",
          "text": [
            "{'name': 'python'}\n"
          ]
        }
      ]
    },
    {
      "cell_type": "code",
      "source": [
        "# How to check types?\n",
        "print(type(123.5))"
      ],
      "metadata": {
        "id": "3m8zOIb6FJJ_",
        "outputId": "400bb82c-1c10-4999-f999-ac2909e25f76",
        "colab": {
          "base_uri": "https://localhost:8080/"
        }
      },
      "execution_count": 11,
      "outputs": [
        {
          "output_type": "stream",
          "name": "stdout",
          "text": [
            "<class 'float'>\n"
          ]
        }
      ]
    },
    {
      "cell_type": "code",
      "source": [
        "print(4,5,6,True,True,True,{True,True,True})"
      ],
      "metadata": {
        "id": "Ptr2LtyLj5Zm",
        "outputId": "89744734-4340-4a98-b5c1-d4958b183850",
        "colab": {
          "base_uri": "https://localhost:8080/"
        }
      },
      "execution_count": 12,
      "outputs": [
        {
          "output_type": "stream",
          "name": "stdout",
          "text": [
            "4 5 6 True True True {True}\n"
          ]
        }
      ]
    },
    {
      "cell_type": "markdown",
      "source": [
        "# **VARIABLE DECLARATION IN PYTHON**\n",
        "Variables are containers for future use."
      ],
      "metadata": {
        "id": "ezCMX1A6FZmD"
      }
    },
    {
      "cell_type": "code",
      "source": [
        "# Conventional Declaration method\n",
        "int num=8;\n",
        "#in other languages"
      ],
      "metadata": {
        "id": "tHz-SMToFexi"
      },
      "execution_count": null,
      "outputs": []
    },
    {
      "cell_type": "code",
      "source": [],
      "metadata": {
        "id": "EOKHRH2Xj2R-"
      },
      "execution_count": null,
      "outputs": []
    },
    {
      "cell_type": "code",
      "source": [
        "# But Python is different\n",
        "name=56  #no need to define seperately\n",
        "print(name)\n",
        "n=True\n",
        "print(n)"
      ],
      "metadata": {
        "id": "eJmktdUOGUIG",
        "outputId": "8fa54628-7ccf-4862-cd36-a5012b919c58",
        "colab": {
          "base_uri": "https://localhost:8080/"
        }
      },
      "execution_count": 16,
      "outputs": [
        {
          "output_type": "stream",
          "name": "stdout",
          "text": [
            "56\n",
            "True\n"
          ]
        }
      ]
    },
    {
      "cell_type": "markdown",
      "source": [
        "# **Dynamic Typing**\n",
        "\n",
        "In C/C++ or Java like languages, we tell compilers the type of variables while declaration.\n",
        "E.g.:"
      ],
      "metadata": {
        "id": "ctvZnVi-GjLH"
      }
    },
    {
      "cell_type": "code",
      "source": [
        "# int a = 5\n",
        "# string name = 'Mohit'"
      ],
      "metadata": {
        "id": "pSSG5qnxHujO"
      },
      "execution_count": null,
      "outputs": []
    },
    {
      "cell_type": "markdown",
      "source": [
        "But in Python there's no need of type declaration. It auto-detects the type of variables.\n",
        "\n"
      ],
      "metadata": {
        "id": "d7Ml174IH79u"
      }
    },
    {
      "cell_type": "markdown",
      "source": [
        "# **Static Typing**\n",
        "In C/C++ or Java like languages, we define the type of variables while declaration, this is called static typing and Python does not support this."
      ],
      "metadata": {
        "id": "P87Isru9IGum"
      }
    },
    {
      "cell_type": "markdown",
      "source": [
        "# **Dynamic Binding vs Static Binding**\n",
        "Static binding refers to the execution of a program where type of object is determined at compile time i.e., when compiler executes the code it know the type of object or class to which object belongs. While in case of dynamic binding the type of object is determined at runtime.\n",
        "E.g.: "
      ],
      "metadata": {
        "id": "Ql8-8O_xJBAZ"
      }
    },
    {
      "cell_type": "code",
      "source": [
        "a = 5\n",
        "print(a)\n",
        "print(type(a))\n",
        "a = 'Chhota Bheem'\n",
        "print(a)\n",
        "print(type(a))"
      ],
      "metadata": {
        "id": "aC-zGZqEJ3Tq",
        "outputId": "50f35b06-0803-4d0f-9f48-a9978b737aa3",
        "colab": {
          "base_uri": "https://localhost:8080/"
        }
      },
      "execution_count": 20,
      "outputs": [
        {
          "output_type": "stream",
          "name": "stdout",
          "text": [
            "5\n",
            "<class 'int'>\n",
            "Chhota Bheem\n",
            "<class 'str'>\n"
          ]
        }
      ]
    },
    {
      "cell_type": "markdown",
      "source": [
        "in static binding once the variable type is declared it cannot hold any other variable type."
      ],
      "metadata": {
        "id": "nWfEqIzTKdZP"
      }
    },
    {
      "cell_type": "markdown",
      "source": [
        "# **Declaring Variables of Python in Style**\n"
      ],
      "metadata": {
        "id": "GHWEbhNoKq3r"
      }
    },
    {
      "cell_type": "code",
      "source": [
        "# 1) a = ?\n",
        "# 2) a,b,c = ?\n",
        "# 3) a = b = c = ?\n",
        "a=324\n",
        "print(a)\n",
        "a,b,c=300,400,500\n",
        "print(a,b,c)\n",
        "a=b=c=14300\n",
        "print(a,b,c)\n",
        "a=4\n",
        "b=5\n",
        "a,b=b,a \n",
        "print(a,b)"
      ],
      "metadata": {
        "id": "6QEPXLiNKzsk",
        "outputId": "31593f11-d99b-4bfa-daeb-0dd8e382a7bb",
        "colab": {
          "base_uri": "https://localhost:8080/"
        }
      },
      "execution_count": 26,
      "outputs": [
        {
          "output_type": "stream",
          "name": "stdout",
          "text": [
            "324\n",
            "300 400 500\n",
            "14300 14300 14300\n",
            "5 4\n"
          ]
        }
      ]
    },
    {
      "cell_type": "markdown",
      "source": [
        "# **Comments**"
      ],
      "metadata": {
        "id": "jcp7Rxl4LF1o"
      }
    },
    {
      "cell_type": "code",
      "source": [
        "#sai navya and mohammed ijas are best friends."
      ],
      "metadata": {
        "id": "z4UOM8WjVf8L"
      },
      "execution_count": 23,
      "outputs": []
    }
  ],
  "metadata": {
    "colab": {
      "name": "Welcome To Colaboratory",
      "provenance": [],
      "include_colab_link": true
    },
    "kernelspec": {
      "display_name": "Python 3",
      "name": "python3"
    }
  },
  "nbformat": 4,
  "nbformat_minor": 0
}